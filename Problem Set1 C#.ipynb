{
 "cells": [
  {
   "cell_type": "markdown",
   "id": "0179c964",
   "metadata": {},
   "source": [
    "### Question 1 C#\n",
    "What data type is each of the following?"
   ]
  },
  {
   "cell_type": "markdown",
   "id": "2215ecc7",
   "metadata": {},
   "source": [
    "5 - Int\n",
    "5.0 - float\n",
    "5 > 1 - Boolean\n",
    "'5' - String\n",
    "5 * 2 - Int\n",
    "'5' * 2 - String\n",
    "'5' + '2'- String\n",
    "5 / 2 - float\n",
    "5 % 2 - Int\n",
    "{5, 2, 1} - Int Array\n",
    "5 == 3 - Boolean\n",
    "Pi (the number) - float"
   ]
  },
  {
   "cell_type": "markdown",
   "id": "0e185c14",
   "metadata": {},
   "source": [
    "### Question 2 C#\n",
    "Write (and evaluate) C# expressions that answer these questions:\n",
    "a. How many letters are there in 'Supercalifragilisticexpialidocious'?"
   ]
  },
  {
   "cell_type": "code",
   "execution_count": 1,
   "id": "1d20e71c",
   "metadata": {},
   "outputs": [
    {
     "name": "stdout",
     "output_type": "stream",
     "text": [
      "The number of letters in Supercalifragilisticexpialidocious are 34\r\n"
     ]
    }
   ],
   "source": [
    "string word = \"Supercalifragilisticexpialidocious\";\n",
    "int length = 0;\n",
    "\n",
    "length = word.Length;      //Calculating the length of the string\n",
    "\n",
    "Console.WriteLine($\"The number of letters in {word} are {length}\");"
   ]
  },
  {
   "cell_type": "markdown",
   "id": "8f5f57cf",
   "metadata": {},
   "source": [
    "## Question 2b C#\n",
    "b. Does 'Supercalifragilisticexpialidocious' contain 'ice' as a substring?\n",
    "\n"
   ]
  },
  {
   "cell_type": "code",
   "execution_count": 2,
   "id": "4f21c430",
   "metadata": {},
   "outputs": [
    {
     "name": "stdout",
     "output_type": "stream",
     "text": [
      "The answer for the above question is True"
     ]
    }
   ],
   "source": [
    "string word = \"Supercalifragilisticexpialidocious\";\n",
    "bool check = word.Contains(\"ice\");             //Using contains function to check if substring is contained in the string\n",
    "\n",
    "Console.Write($\"The answer for the above question is {check}\");\n"
   ]
  },
  {
   "cell_type": "markdown",
   "id": "48f27a67",
   "metadata": {},
   "source": [
    "### Question 2c C#\n",
    "c. Which of the following words is the longest: Supercalifragilisticexpialidocious, Honorificabilitudinitatibus, or \n",
    "Bababadalgharaghtakamminarronnkonn?"
   ]
  },
  {
   "cell_type": "code",
   "execution_count": 3,
   "id": "9c0443a9",
   "metadata": {},
   "outputs": [
    {
     "name": "stdout",
     "output_type": "stream",
     "text": [
      "The largest word is Supercalifragilisticexpialidocious\r\n"
     ]
    }
   ],
   "source": [
    "string word1 = \"Supercalifragilisticexpialidocious\";\n",
    "string word2 = \"Honorificabilitudinitatibus\";\n",
    "string word3 = \"Bababadalgharaghtakamminarronnkonn\";\n",
    "\n",
    "//Calculating the length of each word to check which is the longest\n",
    "\n",
    "int length1 = word1.Length;\n",
    "int length2 = word2.Length;\n",
    "int length3 = word3.Length;\n",
    "\n",
    "if(length1>=length2)\n",
    "{\n",
    "  if(length1>=length3)\n",
    "  {\n",
    "  Console.WriteLine($\"The largest word is {word1}\");\n",
    "  }\n",
    "  else\n",
    "  {\n",
    "  Console.WriteLine($\"The largest word is {word2}\");\n",
    "  }\n",
    "}\n",
    "\n",
    "else if(length2>=length3)\n",
    "{\n",
    "Console.WriteLine($\"The largest word is {word2}\");\n",
    "}\n",
    "else\n",
    "{\n",
    "Console.WriteLine($\"The largest word is {word3}\");\n",
    "}"
   ]
  },
  {
   "cell_type": "markdown",
   "id": "2c239dd0",
   "metadata": {},
   "source": [
    "### Question 2d C# \n",
    "Which composer comes first in the dictionary: 'Berlioz', 'Borodin', 'Brian', \n",
    "'Bartok', 'Bellini', 'Buxtehude', 'Bernstein'. Which one comes last?\n",
    "\n"
   ]
  },
  {
   "cell_type": "code",
   "execution_count": 4,
   "id": "7b8fca37",
   "metadata": {},
   "outputs": [
    {
     "name": "stdout",
     "output_type": "stream",
     "text": [
      "The composer that comes first in the dictonary is Bartok\n",
      "The composer that comes first in the dictonary is Buxtehude\n"
     ]
    }
   ],
   "source": [
    "string[] composer = {\"Berlioz\",\"Borodin\",\"Brian\",\"Bartok\",\"Bellini\",\"Buxtehude\",\"Bernstein\"};\n",
    "\n",
    "//Using sort method to arrange the strings in lexicographical order\n",
    "Array.Sort(composer);\n",
    "/*Priting the strings in lexicographic order\n",
    "Console.WriteLine(\"The strings in lexicographic order:\");\n",
    "foreach(string i in composer)\n",
    "{\n",
    "Console.WriteLine(i);\n",
    "}*/\n",
    "\n",
    "Console.WriteLine($\"The composer that comes first in the dictonary is {composer[0]}\");\n",
    "Console.WriteLine($\"The composer that comes first in the dictonary is {composer[6]}\");"
   ]
  },
  {
   "cell_type": "markdown",
   "id": "44f31e16",
   "metadata": {},
   "source": [
    "### Question 3 C#\n",
    "Implement function triangleArea(a,b,c) that takes as input the lengths of the 3 sides of a triangle and returns the area of the triangle. By Heron's formula, the area \n",
    "of a triangle with side lengths a, b, and c is s(s − a)(s −b)(s −c), where s = (a + b + c)/2\n"
   ]
  },
  {
   "cell_type": "markdown",
   "id": "0e48ed52",
   "metadata": {},
   "source": [
    "using System;\n",
    "\t\t\t\t\t\n",
    "public class Program\n",
    "{\n",
    "\tpublic static void Main()\n",
    "\t{\n",
    "\t  int side1 =0, side2 =0, side3 =0;\n",
    "\t\t\n",
    "      Console.WriteLine(\"Enter the side1 of triangle\");\n",
    "      side1 = Convert.ToInt16(Console.ReadLine());\n",
    "      Console.WriteLine(\"Side1 of triangle: \" + side1);\n",
    "\t\t\n",
    "\t  Console.WriteLine(\"\\n\");\n",
    "\t\t\n",
    "\t  Console.WriteLine(\"Enter the side2 of triangle\");\n",
    "      side2 = Convert.ToInt16(Console.ReadLine());\n",
    "      Console.WriteLine(\"Side2 of triangle: \" + side2);\n",
    "\t\t\n",
    "\t  Console.WriteLine(\"\\n\");\n",
    "\t\t\n",
    "\t  Console.WriteLine(\"Enter the side3 of triangle\");\n",
    "      side3 = Convert.ToInt16(Console.ReadLine());\n",
    "      Console.WriteLine(\"Side3 of triangle: \" + side3);\n",
    "\t\t\n",
    "\t\tdouble area = area_of_traingle(side1,side2,side3);\n",
    "\t\t\n",
    "\t\tConsole.WriteLine(\"\\n\");\n",
    "\t\t\n",
    "\t\tConsole.WriteLine(\"Area of Triangle: \" +area);\n",
    "\t\t\n",
    "\t}\n",
    "\t\t\n",
    "\t   public static double area_of_traingle (int a, int b, int c)\n",
    "\t  {\n",
    "\t\tdouble s, area;\n",
    "\t\t\n",
    "\t\ts = (a+b+c)/2;\n",
    "\t\tarea = Math.Sqrt(s*(s-a)*(s-b)*(s-c));\n",
    "\t\t\t\t\t\t \n",
    "\t\t//Console.WriteLine(s);\n",
    "\t\t//Console.WriteLine(area);\n",
    "\t\t\n",
    "\t\treturn area;\n",
    "\t  }\n",
    "\t\n",
    "}\n"
   ]
  },
  {
   "attachments": {
    "Question%203.PNG": {
     "image/png": "[encoded data removed]"
    }
   },
   "cell_type": "markdown",
   "id": "e7427f3e",
   "metadata": {},
   "source": [
    "![Question%203.PNG](attachment:Question%203.PNG)"
   ]
  },
  {
   "cell_type": "markdown",
   "id": "ca3f6457",
   "metadata": {},
   "source": [
    "### Question 4 C#\n",
    "Write a program in C# Sharp to separate odd and even integers in separate arrays."
   ]
  },
  {
   "cell_type": "markdown",
   "id": "c46b6d4c",
   "metadata": {},
   "source": [
    "using System;\n",
    "\t\t\t\t\t\n",
    "public class Program\n",
    "{\n",
    "\tpublic static void Main()\n",
    "\t{\n",
    "    \n",
    "        Console.WriteLine(\"Enter the elements to be stored in array\");\n",
    "\t    int length = Convert.ToInt16(Console.ReadLine());\n",
    "\t\tint i=0,j=0,k=0;\n",
    "\t\tint count =0;\n",
    "       \n",
    "\t    int [] numbers = new int[length];\n",
    "\n",
    "\t for (i=0; i<length ; i++)\n",
    "\t  {\n",
    "\t\t\tConsole.WriteLine(\"Enter elements in the array: \");\n",
    "\t\t\tnumbers[i] = Convert.ToInt16(Console.ReadLine());\n",
    "\t\t    if (numbers[i]%2==0)\n",
    "\t\t\t{\n",
    "\t\t\t\tcount++;\n",
    "\t\t\t}\n",
    "\t\t\t\t\t\n",
    "\t  }\n",
    "\n",
    "\tConsole.WriteLine(\"The elements in the array\");\n",
    "\n",
    "\t for(i=0;i<length;i++)\n",
    "\t {\n",
    "\t\t Console.Write(numbers[i]+\"\\t\");\n",
    "\n",
    "\t  }  \n",
    "\t\t\n",
    "\t\tint[] even = new int[count];\n",
    "\t\tint[] odd = new int[length-count];\n",
    "\n",
    "\tfor(i =0; i<length;i++)\n",
    "\t{\n",
    "\t\tif(numbers[i]%2 ==0)\n",
    "\t\t{\n",
    "\t\t\teven[j]=numbers[i];\n",
    "\t\t\tj++;\n",
    "\t\t}\n",
    "\t   else\n",
    "\t   {\n",
    "\t\t   odd[k] = numbers[i];\n",
    "\t\t   k++;\n",
    "\t   }\n",
    "\n",
    "\t}\n",
    "\t\tConsole.WriteLine(\"\\n\");\n",
    "\t\tConsole.WriteLine(\"The even Elements are:\");\n",
    "\t\t\t\n",
    "\n",
    "\tfor (j=0; j<count;j++)\n",
    "\t{        \n",
    "\t\tConsole.Write(even[j]+\"\\t\");\n",
    "\t}\n",
    "\t\tConsole.WriteLine(\"\\n\");\n",
    "\t\tConsole.WriteLine(\"The odd Elements are:\");\n",
    "\n",
    "\tfor (k=0; k<(length-count);k++)\n",
    "\t{    \n",
    "\t\tConsole.Write(odd[k]+\"\\t\");\n",
    "\t}\n",
    "\t}\n",
    "\n",
    "  } "
   ]
  },
  {
   "attachments": {
    "Question%204.PNG": {
     "image/png": "[encoded data removed]"
    }
   },
   "cell_type": "markdown",
   "id": "0bdb02ea",
   "metadata": {},
   "source": [
    "![Question%204.PNG](attachment:Question%204.PNG)"
   ]
  },
  {
   "cell_type": "markdown",
   "id": "d706946f",
   "metadata": {},
   "source": [
    "### Question 5 C#\n",
    "a. Write a function inside(x,y,x1,y1,x2,y2) that returns True or False \n",
    "dependingonwhetherthepoint(x,y)liesintherectanglewithlowerleft \n",
    "corner (x1,y1) and upper right corner (x2,y2)."
   ]
  },
  {
   "cell_type": "markdown",
   "id": "89ce65f3",
   "metadata": {},
   "source": [
    "using System;\n",
    "\t\t\t\t\t\n",
    "public class Program\n",
    "{\n",
    "\tpublic static void Main()\n",
    "\t{\n",
    "\t  \n",
    "\t\tdouble x,y,x1,y1,x2,y2;\n",
    "\t\tConsole.WriteLine(\"Enter the lower left corner x cordinates of the rectangle: \");\n",
    "\t\tx1 = Convert.ToInt32(Console.ReadLine());\n",
    "\t\tConsole.WriteLine(\"Enter the lower left corner y cordinates of the rectangle: \");\n",
    "\t\ty1 = Convert.ToInt32(Console.ReadLine());\n",
    "\t\t\n",
    "\t\tConsole.WriteLine(\"\\n\");\n",
    "\t\t\n",
    "\t\tConsole.WriteLine(\"Enter the upper right corner x cordinates of the rectangle: \");\n",
    "\t\tx2 = Convert.ToInt32(Console.ReadLine());\n",
    "\t\tConsole.WriteLine(\"Enter the upper right corner y cordinates of the rectangle: \");\n",
    "\t\ty2 = Convert.ToInt32(Console.ReadLine());\n",
    "\t\t\n",
    "\t\tConsole.WriteLine(\"\\n\");\n",
    "\t\t\n",
    "\t\tConsole.WriteLine(\"The lower left corner cordinates of the rectangle entered are: \" +x1 + \",\"+ y1);\t\n",
    "\t\tConsole.WriteLine(\"The upper right corner cordinates of the rectangle entered are: \"+x2 + \",\" +y2);\n",
    "\t\t\n",
    "\t\tConsole.WriteLine(\"\\n\");\n",
    "\t\t\n",
    "\t\tConsole.WriteLine(\"Enter the corner x cordinates:\");\n",
    "\t\tx = Convert.ToInt32(Console.ReadLine());\n",
    "\t\tConsole.WriteLine(\"Enter the corner y cordinates:\");\n",
    "\t\ty = Convert.ToInt32(Console.ReadLine());\n",
    "\t\t\n",
    "\t\tConsole.WriteLine(\"\\n\");\n",
    "\t\t\n",
    "\t\tConsole.WriteLine(\"The cordinates entered are: \" +x + \",\"+ y);\n",
    "\t\tConsole.WriteLine(\"\\n\");\n",
    "\t\t\n",
    "\t\tstring result = inside(x,y,x1,y1,x2,y2);\n",
    "\t\tConsole.WriteLine(result);\n",
    "\t\t\n",
    "    }\n",
    "\t\n",
    "\tpublic static string inside(double x, double y, double x1, double y1, double x2, double y2)\n",
    "\t{\n",
    "\t\tstring s;\n",
    "\t\tif((x>=x1 && y>=y1) && (x<=x2 && y<=y2))\n",
    "\t\t{\n",
    "\t\t\t s = \"True\";\n",
    "\t\t}\n",
    "\t\telse\n",
    "\t\t{\n",
    "\t\t\t s = \"False\";\n",
    "\t\t}\n",
    "\t\t\n",
    "\t\treturn s;\n",
    "\t}\n",
    "\t\n",
    "} \n"
   ]
  },
  {
   "attachments": {
    "Question%205.PNG": {
     "image/png": "[encoded data removed]"
    }
   },
   "cell_type": "markdown",
   "id": "b92c5ac9",
   "metadata": {},
   "source": [
    "![Question%205.PNG](attachment:Question%205.PNG)"
   ]
  },
  {
   "cell_type": "markdown",
   "id": "afd8b583",
   "metadata": {},
   "source": [
    "### Question 5\n",
    "b. Use function inside()from part a. to write an expression that tests whether \n",
    "the point (1,1) lies in both of the following rectangles: one with lower left \n",
    "corner (0.3, 0.5) and upper right corner (1.1, 0.7) and the other with lower \n",
    "left corner (0.5, 0.2) and upper right corner (1.1, 2)."
   ]
  },
  {
   "cell_type": "markdown",
   "id": "25b4ba56",
   "metadata": {},
   "source": [
    "using System;\n",
    "\t\t\t\t\t\n",
    "public class Program\n",
    "{\n",
    "\tpublic static void Main()\n",
    "\t{\n",
    "\t  \n",
    "\t\tdouble x,y,x1,y1,x2,y2;\n",
    "\t\tConsole.WriteLine(\"Enter the lower left corner x cordinates of the rectangle: \");\n",
    "\t\tx1 = Convert.ToInt32(Console.ReadLine());\n",
    "\t\tConsole.WriteLine(\"Enter the lower left corner y cordinates of the rectangle: \");\n",
    "\t\ty1 = Convert.ToInt32(Console.ReadLine());\n",
    "\t\t\n",
    "\t\tConsole.WriteLine(\"\\n\");\n",
    "\t\t\n",
    "\t\tConsole.WriteLine(\"Enter the upper right corner x cordinates of the rectangle: \");\n",
    "\t\tx2 = Convert.ToInt32(Console.ReadLine());\n",
    "\t\tConsole.WriteLine(\"Enter the upper right corner y cordinates of the rectangle: \");\n",
    "\t\ty2 = Convert.ToInt32(Console.ReadLine());\n",
    "\t\t\n",
    "\t\tConsole.WriteLine(\"\\n\");\n",
    "\t\t\n",
    "\t\tConsole.WriteLine(\"The lower left corner cordinates of the rectangle entered are: \" +x1 + \",\"+ y1);\t\n",
    "\t\tConsole.WriteLine(\"The upper right corner cordinates of the rectangle entered are: \"+x2 + \",\" +y2);\n",
    "\t\t\n",
    "\t\tConsole.WriteLine(\"\\n\");\n",
    "\t\t\n",
    "\t\tConsole.WriteLine(\"Enter the corner x cordinates:\");\n",
    "\t\tx = Convert.ToInt32(Console.ReadLine());\n",
    "\t\tConsole.WriteLine(\"Enter the corner y cordinates:\");\n",
    "\t\ty = Convert.ToInt32(Console.ReadLine());\n",
    "\t\t\n",
    "\t\tConsole.WriteLine(\"\\n\");\n",
    "\t\t\n",
    "\t\tConsole.WriteLine(\"The cordinates entered are: \" +x + \",\"+ y);\n",
    "\t\tConsole.WriteLine(\"\\n\");\n",
    "\t\t\n",
    "\t\tstring result = inside(x,y,x1,y1,x2,y2);\n",
    "\t\t\n",
    "\t\tstring result2 = inside(1,1,0.3,0.5,1.1,0.7);\n",
    "\t\tstring result3 = inside(1,1,0.5,0.2,1.1,2);\n",
    "\t\t\n",
    "\t\tConsole.WriteLine(result);\n",
    "\t\tConsole.WriteLine(result2);\n",
    "\t\tConsole.WriteLine(result3);\n",
    "\t\t\n",
    "    }\n",
    "\t\n",
    "\tpublic static string inside(double x, double y, double x1, double y1, double x2, double y2)\n",
    "\t{\n",
    "\t\tstring s;\n",
    "\t\tif((x>=x1 && y>=y1) && (x<=x2 && y<=y2))\n",
    "\t\t{\n",
    "\t\t\t s = \"True\";\n",
    "\t\t}\n",
    "\t\telse\n",
    "\t\t{\n",
    "\t\t\t s = \"False\";\n",
    "\t\t}\n",
    "\t\t\n",
    "\t\treturn s;\n",
    "\t}\n",
    "\t\n",
    "} \n"
   ]
  },
  {
   "cell_type": "code",
   "execution_count": null,
   "id": "5e6fc602",
   "metadata": {},
   "outputs": [],
   "source": []
  }
 ],
 "metadata": {
  "kernelspec": {
   "display_name": ".NET (C#)",
   "language": "C#",
   "name": ".net-csharp"
  },
  "language_info": {
   "file_extension": ".cs",
   "mimetype": "text/x-csharp",
   "name": "C#",
   "pygments_lexer": "csharp",
   "version": "8.0"
  }
 },
 "nbformat": 4,
 "nbformat_minor": 5
}
