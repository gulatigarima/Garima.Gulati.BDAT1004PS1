{
 "cells": [
  {
   "cell_type": "markdown",
   "id": "484eb3d5",
   "metadata": {},
   "source": [
    "### Question 6 Python \n",
    "You can turn a word into pig-Latin using the following two rules(simplified):\n",
    "• If the word starts with a consonant, move that letter to the end and append \n",
    "'ay'. For example, 'happy' becomes 'appyhay' and 'pencil' becomes 'encilpay'.\n",
    "• If the word starts with a vowel, simply append 'way' to the end of the word. \n",
    "For example, 'enter' becomes 'enterway' and 'other' becomes 'otherway' . For \n",
    "our purposes, there are 5 vowels: a, e, i, o, u (so we count y as a consonant).\n",
    "Write a function pig() that takes a word (i.e., a string) as input and returns its pig\u0002Latin form. Your function should still work if the input word contains upper case \n",
    "characters. Your output should always be lower case however."
   ]
  },
  {
   "cell_type": "code",
   "execution_count": 2,
   "id": "0ba4253c",
   "metadata": {},
   "outputs": [
    {
     "name": "stdout",
     "output_type": "stream",
     "text": [
      "Enter stringhappy\n",
      "String :happy\n"
     ]
    },
    {
     "data": {
      "text/plain": [
       "'appyhay'"
      ]
     },
     "execution_count": 2,
     "metadata": {},
     "output_type": "execute_result"
    }
   ],
   "source": [
    "str = input(\"Enter string\");\n",
    "print(\"String :\" + str)\n",
    "\n",
    "def pig(str):                          # Defining the pig function\n",
    "    vowel = 'aeiouAEIOU'\n",
    "    start_word = str[0]\n",
    "    end_word = str[-1]\n",
    "\n",
    "    if str[0] in vowel:               # Defining the if-else condition\n",
    "        str += 'way'\n",
    "        str= str.lower()\n",
    "        \n",
    "    else:\n",
    "        str = str[1:-1]+ end_word +start_word+'ay'\n",
    "        str=str.lower()\n",
    "        \n",
    "    return str\n",
    "    \n",
    "  \n",
    "pig(str)"
   ]
  },
  {
   "cell_type": "markdown",
   "id": "17ec3347",
   "metadata": {},
   "source": [
    "### Question 7 Python\n",
    "File bloodtype1.txt records blood-types of patients (A, B, AB, O or OO) at a clinic. \n",
    "Write a function bldcount() that reads the file with name name and reports (i.e., \n",
    "prints) how many patients there are in each bloodtype"
   ]
  },
  {
   "cell_type": "code",
   "execution_count": 1,
   "id": "6e77ad92",
   "metadata": {},
   "outputs": [
    {
     "name": "stdout",
     "output_type": "stream",
     "text": [
      "There are 15 patients of blood type A.\n",
      "There is one patients of blood type B.\n",
      "There are 13 patients of blood type AB.\n",
      "There are 15 patients of blood type O.\n",
      "There are no patients of blood type OO.\n"
     ]
    }
   ],
   "source": [
    "def countprint(count):\n",
    "    if count ==0:\n",
    "        return \"are no\"\n",
    "    elif count ==1:\n",
    "        return \"is one\"\n",
    "    else:\n",
    "        return \"are \"+ str(count)\n",
    "\n",
    "def bldcount(filename):\n",
    "    infile = open(filename)\n",
    "    #print(infile.read()) \n",
    "    content = infile.read()\n",
    "    infile.close()\n",
    "    wordList = content.split()\n",
    "\n",
    "    countAB = wordList.count(\"AB\")      # Using the count function to get the count\n",
    "    countB = wordList.count(\"B\")\n",
    "    countA = wordList.count(\"A\")\n",
    "    countO = wordList.count(\"O\")\n",
    "    countOO = wordList.count(\"OO\")\n",
    " \n",
    "\n",
    "    print(\"There \"+ countprint(countA)+ \" patients of blood type A.\")\n",
    "    print(\"There \"+ countprint(countB) + \" patients of blood type B.\")\n",
    "    print(\"There \"+ countprint(countAB) + \" patients of blood type AB.\")\n",
    "    print(\"There \"+ countprint(countO) + \" patients of blood type O.\")\n",
    "    print(\"There \"+ countprint(countOO) + \" patients of blood type OO.\")\n",
    "   \n",
    "\n",
    "bldcount('C:/Users/garim/OneDrive/Desktop/DataProg/bloodtype1.txt')\n"
   ]
  },
  {
   "cell_type": "markdown",
   "id": "0dc4fecc",
   "metadata": {},
   "source": [
    "### Question 8 Python\n",
    "\n",
    "Write a function curconv() that takes as input:\n",
    "1. a currency represented using a string (e.g., 'JPY' for the Japanese Yen or \n",
    "'EUR' for the Euro)\n",
    "2. an amount\n",
    "and then converts and returns the amount in US dollars."
   ]
  },
  {
   "cell_type": "code",
   "execution_count": 3,
   "id": "4c3b4259",
   "metadata": {},
   "outputs": [
    {
     "name": "stdout",
     "output_type": "stream",
     "text": [
      "122.96544\n",
      "1.241401\n",
      "1.77643\n",
      "103.45157\n"
     ]
    }
   ],
   "source": [
    "infile = open('C:/Users/garim/OneDrive/Desktop/DataProg/currencies.txt')\n",
    "lines = infile.readlines()        # Reading the lines from the file\n",
    "result =[]\n",
    "for x in lines:\n",
    "    result.append(x.split('\\t'))  # Spliting the values \n",
    "\n",
    "def curconv(currency,amount):    # Defining the function to convert the amount\n",
    "    USD_amount =0.0;\n",
    "    for c in result:\n",
    "        if c[0] == currency:\n",
    "            USD_amount= amount* float(c[1])\n",
    "    return USD_amount\n",
    "print(curconv(\"EUR\",100))\n",
    "print(curconv(\"JPY\",100))\n",
    "print(curconv(\"INR\",100))\n",
    "print(curconv(\"AUD\",100))"
   ]
  },
  {
   "cell_type": "markdown",
   "id": "01c0670e",
   "metadata": {},
   "source": [
    "### Question 9 Python\n",
    "\n",
    "Each of the following will cause an exception (an error). Identify what type of \n",
    "exception each will cause\n",
    "\n"
   ]
  },
  {
   "cell_type": "markdown",
   "id": "52479bf9",
   "metadata": {},
   "source": [
    "1.Trying to add incompatible variables, as in 6 +'a'- TypeError                     \n",
    "2. Referring to the 12th item of a list that has only 10 items -IndexError                    \n",
    "3. Using a value that is out ofrange for a function’s input, such as calling math.sqrt(-1.0)- NameError       \n",
    "4. Using an undeclared variable, such as print(x)when x has not been defined - Name Error              \n",
    "5. Trying to open a file that does not exist, such as mistyping the file name or looking in the wrong directory -FileNotFoundError             \n",
    "                             \n"
   ]
  },
  {
   "cell_type": "markdown",
   "id": "38e9175d",
   "metadata": {},
   "source": [
    "### Question 10 Python\n",
    "\n",
    "Encryption is the process of hiding the meaning of a text by substituting letters in the \n",
    "message with other letters, according to some system. If the process is successful, no \n",
    "one but the intended recipient can understand the encrypted message. Cryptanalysis \n",
    "refers to attempts to undo the encryption, even if some details of the encryption are \n",
    "unknown (for example, if an encrypted message has been intercepted). The first step \n",
    "of cryptanalysis is often to build up a table of letter frequencies in the encrypted text. \n",
    "Assume that the string letters is already defined as \n",
    "'abcdefghijklmnopqrstuvwxyz'. Write a function called frequencies() \n",
    "that takes a string as its only parameter, and returns a list of integers, showing the \n",
    "number of times each character appears in the text. Your function may ignore any \n",
    "characters that are not in letters."
   ]
  },
  {
   "cell_type": "code",
   "execution_count": 4,
   "id": "4cee4b2c",
   "metadata": {},
   "outputs": [
    {
     "name": "stdout",
     "output_type": "stream",
     "text": [
      "[1, 1, 1, 3, 5, 1, 1, 2, 1, 0, 1, 0, 1, 2, 4, 0, 1, 2, 0, 3, 1, 0, 1, 1, 0, 0]\n"
     ]
    }
   ],
   "source": [
    "letters =['a','b','c','d','e','f','g','h','i','j','k','l','m','n','o','p','q','r','s','t','u','v','w','x','y','z']\n",
    "count =[]\n",
    "\n",
    "for i in range(len(letters)):\n",
    "    count.append(0)            #Assigning '0' values to the array initially\n",
    "\n",
    "def frequencies(string_name):\n",
    "    lowerstr = string_name.lower()    \n",
    "    for c in lowerstr:\n",
    "        for i in range(len(letters)):     #Looping through the array\n",
    "            if letters[i] ==c:\n",
    "                count[i]= lowerstr.count(c)\n",
    "    print (count)\n",
    "        \n",
    "        \n",
    "frequencies(\"The quick red fox got bored and went home\") "
   ]
  },
  {
   "cell_type": "code",
   "execution_count": null,
   "id": "2933dd71",
   "metadata": {},
   "outputs": [],
   "source": []
  }
 ],
 "metadata": {
  "kernelspec": {
   "display_name": "Python 3 (ipykernel)",
   "language": "python",
   "name": "python3"
  },
  "language_info": {
   "codemirror_mode": {
    "name": "ipython",
    "version": 3
   },
   "file_extension": ".py",
   "mimetype": "text/x-python",
   "name": "python",
   "nbconvert_exporter": "python",
   "pygments_lexer": "ipython3",
   "version": "3.9.12"
  }
 },
 "nbformat": 4,
 "nbformat_minor": 5
}
